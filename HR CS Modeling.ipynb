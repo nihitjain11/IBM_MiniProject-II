{
 "cells": [
  {
   "cell_type": "markdown",
   "metadata": {},
   "source": [
    "# HR Case Study\n",
    "\n",
    "### Internshala data\n",
    "\n",
    "Matching Employees with  right interns"
   ]
  },
  {
   "cell_type": "markdown",
   "metadata": {},
   "source": [
    "## Understanding Problem Statement"
   ]
  },
  {
   "cell_type": "markdown",
   "metadata": {},
   "source": [
    "## Problem Statement\n",
    "\n",
    "* In this problem, we have been provided with information about various **internships posted** on Internshala. (This includes various attributes about the internships like location, duration, start_date of internship etc.)\n",
    "\n",
    "* We have also been provided information about the **students who have applied** for the internship. (These include type_of_institute, current_year, academic performance of the student etc.)\n",
    "\n",
    "* Any student is free to apply for any internship on the portal.\n"
   ]
  },
  {
   "cell_type": "markdown",
   "metadata": {},
   "source": [
    "*While employers get high response to their posting, it is difficult to go through a high number of applications for the employers. They might need to go through high number of applications to shortlist the most relevant candidates. Hence an intelligent matching algorithm can help our users get better experience and enhance chances of meaningful profile matches.*\n"
   ]
  },
  {
   "cell_type": "markdown",
   "metadata": {},
   "source": [
    "\n",
    "## Description of the files\n",
    "\n",
    "* **Internship.csv** - includes the details of all the internships posted on Internshala. These details are filled by the company floating the Internship. Each row represents one internship.\n",
    "\n",
    "* **Student.csv** - includes details of the students applying for the internship. These details have been filled by the student. Each row represents an experience of the student. In case the student has not filled any experience, there would be only one row containing details of student.\n",
    "\n",
    "* **test.csv & train.csv** - include the application details (as applied by student) and the shortlist outcome\n",
    "\n"
   ]
  },
  {
   "cell_type": "markdown",
   "metadata": {},
   "source": [
    "# Exploratory Questions to be answered"
   ]
  },
  {
   "cell_type": "markdown",
   "metadata": {},
   "source": [
    "* What are the skills that an HR looks for in a candidate for shortlisting him/her for an internship"
   ]
  },
  {
   "cell_type": "markdown",
   "metadata": {},
   "source": [
    "* The trend of Internshipp Opportunities and their availability comparision with students avalability"
   ]
  },
  {
   "cell_type": "markdown",
   "metadata": {},
   "source": [
    "* Most and least popular intership that students apply for and the category of most offered internships"
   ]
  },
  {
   "cell_type": "markdown",
   "metadata": {},
   "source": [
    "* Locations students can apply at and which location is intaking most inters"
   ]
  },
  {
   "cell_type": "markdown",
   "metadata": {},
   "source": [
    "* Internship offered based on Internship type (regular, virtual, part-time)"
   ]
  },
  {
   "cell_type": "markdown",
   "metadata": {},
   "source": [
    "## Data Understanding"
   ]
  },
  {
   "cell_type": "code",
   "execution_count": 1,
   "metadata": {},
   "outputs": [],
   "source": [
    "#import packages\n",
    "import pandas as pd\n",
    "import numpy as np\n",
    "import matplotlib.pyplot as plt\n",
    "import seaborn as sns\n",
    "%matplotlib inline"
   ]
  },
  {
   "cell_type": "code",
   "execution_count": 2,
   "metadata": {},
   "outputs": [
    {
     "name": "stderr",
     "output_type": "stream",
     "text": [
      "C:\\ProgramData\\Anaconda3\\lib\\site-packages\\IPython\\core\\interactiveshell.py:3044: DtypeWarning: Columns (2) have mixed types. Specify dtype option on import or set low_memory=False.\n",
      "  interactivity=interactivity, compiler=compiler, result=result)\n"
     ]
    }
   ],
   "source": [
    "# read train files in trainfiles,i.e., internships, students, shortlisted\n",
    "df_internship = pd.read_csv(\"trainfiles/Internship/Internship.csv\")\n",
    "df_student = pd.read_csv(\"trainfiles/Student/Student.csv\")\n",
    "df_train = pd.read_csv(\"trainfiles/traincsv/train.csv\")"
   ]
  },
  {
   "cell_type": "code",
   "execution_count": 3,
   "metadata": {},
   "outputs": [
    {
     "data": {
      "text/plain": [
       "(6899, 286)"
      ]
     },
     "execution_count": 3,
     "metadata": {},
     "output_type": "execute_result"
    }
   ],
   "source": [
    "# INTERNSHIPS LISTED\n",
    "df_internship.shape"
   ]
  },
  {
   "cell_type": "code",
   "execution_count": 4,
   "metadata": {},
   "outputs": [
    {
     "data": {
      "text/plain": [
       "(151191, 19)"
      ]
     },
     "execution_count": 4,
     "metadata": {},
     "output_type": "execute_result"
    }
   ],
   "source": [
    "# STUDENT APPLICATIONS RECEIVED\n",
    "df_student.shape"
   ]
  },
  {
   "cell_type": "code",
   "execution_count": 5,
   "metadata": {},
   "outputs": [
    {
     "data": {
      "text/plain": [
       "(192582, 8)"
      ]
     },
     "execution_count": 5,
     "metadata": {},
     "output_type": "execute_result"
    }
   ],
   "source": [
    "# SHORTLISTED STUDENTS DATA for Training ML model\n",
    "df_train.shape"
   ]
  },
  {
   "cell_type": "code",
   "execution_count": 6,
   "metadata": {},
   "outputs": [
    {
     "data": {
      "text/html": [
       "<div>\n",
       "<style scoped>\n",
       "    .dataframe tbody tr th:only-of-type {\n",
       "        vertical-align: middle;\n",
       "    }\n",
       "\n",
       "    .dataframe tbody tr th {\n",
       "        vertical-align: top;\n",
       "    }\n",
       "\n",
       "    .dataframe thead th {\n",
       "        text-align: right;\n",
       "    }\n",
       "</style>\n",
       "<table border=\"1\" class=\"dataframe\">\n",
       "  <thead>\n",
       "    <tr style=\"text-align: right;\">\n",
       "      <th></th>\n",
       "      <th>Internship_ID</th>\n",
       "      <th>No_of_openings</th>\n",
       "      <th>Stipend1</th>\n",
       "      <th>Stipend2</th>\n",
       "      <th>Internship_Duration(Months)</th>\n",
       "    </tr>\n",
       "  </thead>\n",
       "  <tbody>\n",
       "    <tr>\n",
       "      <th>count</th>\n",
       "      <td>6899.000000</td>\n",
       "      <td>6899.000000</td>\n",
       "      <td>6771.000000</td>\n",
       "      <td>3151.000000</td>\n",
       "      <td>6.899000e+03</td>\n",
       "    </tr>\n",
       "    <tr>\n",
       "      <th>mean</th>\n",
       "      <td>8016.000000</td>\n",
       "      <td>4.447601</td>\n",
       "      <td>5673.532270</td>\n",
       "      <td>10518.329102</td>\n",
       "      <td>5.849465e+03</td>\n",
       "    </tr>\n",
       "    <tr>\n",
       "      <th>std</th>\n",
       "      <td>1991.714086</td>\n",
       "      <td>6.395352</td>\n",
       "      <td>4318.323717</td>\n",
       "      <td>7407.088517</td>\n",
       "      <td>3.432311e+05</td>\n",
       "    </tr>\n",
       "    <tr>\n",
       "      <th>min</th>\n",
       "      <td>4567.000000</td>\n",
       "      <td>1.000000</td>\n",
       "      <td>1.000000</td>\n",
       "      <td>100.000000</td>\n",
       "      <td>0.000000e+00</td>\n",
       "    </tr>\n",
       "    <tr>\n",
       "      <th>25%</th>\n",
       "      <td>6291.500000</td>\n",
       "      <td>2.000000</td>\n",
       "      <td>3000.000000</td>\n",
       "      <td>5000.000000</td>\n",
       "      <td>2.000000e+00</td>\n",
       "    </tr>\n",
       "    <tr>\n",
       "      <th>50%</th>\n",
       "      <td>8016.000000</td>\n",
       "      <td>2.000000</td>\n",
       "      <td>5000.000000</td>\n",
       "      <td>10000.000000</td>\n",
       "      <td>3.000000e+00</td>\n",
       "    </tr>\n",
       "    <tr>\n",
       "      <th>75%</th>\n",
       "      <td>9740.500000</td>\n",
       "      <td>5.000000</td>\n",
       "      <td>8000.000000</td>\n",
       "      <td>15000.000000</td>\n",
       "      <td>4.000000e+00</td>\n",
       "    </tr>\n",
       "    <tr>\n",
       "      <th>max</th>\n",
       "      <td>11465.000000</td>\n",
       "      <td>100.000000</td>\n",
       "      <td>50000.000000</td>\n",
       "      <td>150000.000000</td>\n",
       "      <td>2.016033e+07</td>\n",
       "    </tr>\n",
       "  </tbody>\n",
       "</table>\n",
       "</div>"
      ],
      "text/plain": [
       "       Internship_ID  No_of_openings      Stipend1       Stipend2  \\\n",
       "count    6899.000000     6899.000000   6771.000000    3151.000000   \n",
       "mean     8016.000000        4.447601   5673.532270   10518.329102   \n",
       "std      1991.714086        6.395352   4318.323717    7407.088517   \n",
       "min      4567.000000        1.000000      1.000000     100.000000   \n",
       "25%      6291.500000        2.000000   3000.000000    5000.000000   \n",
       "50%      8016.000000        2.000000   5000.000000   10000.000000   \n",
       "75%      9740.500000        5.000000   8000.000000   15000.000000   \n",
       "max     11465.000000      100.000000  50000.000000  150000.000000   \n",
       "\n",
       "       Internship_Duration(Months)  \n",
       "count                 6.899000e+03  \n",
       "mean                  5.849465e+03  \n",
       "std                   3.432311e+05  \n",
       "min                   0.000000e+00  \n",
       "25%                   2.000000e+00  \n",
       "50%                   3.000000e+00  \n",
       "75%                   4.000000e+00  \n",
       "max                   2.016033e+07  "
      ]
     },
     "execution_count": 6,
     "metadata": {},
     "output_type": "execute_result"
    }
   ],
   "source": [
    "df_internship.iloc[:,:13].describe()"
   ]
  },
  {
   "cell_type": "code",
   "execution_count": 7,
   "metadata": {},
   "outputs": [
    {
     "data": {
      "text/html": [
       "<div>\n",
       "<style scoped>\n",
       "    .dataframe tbody tr th:only-of-type {\n",
       "        vertical-align: middle;\n",
       "    }\n",
       "\n",
       "    .dataframe tbody tr th {\n",
       "        vertical-align: top;\n",
       "    }\n",
       "\n",
       "    .dataframe thead th {\n",
       "        text-align: right;\n",
       "    }\n",
       "</style>\n",
       "<table border=\"1\" class=\"dataframe\">\n",
       "  <thead>\n",
       "    <tr style=\"text-align: right;\">\n",
       "      <th></th>\n",
       "      <th>Student_ID</th>\n",
       "      <th>Year_of_graduation</th>\n",
       "      <th>Performance_PG</th>\n",
       "      <th>PG_scale</th>\n",
       "      <th>Performance_UG</th>\n",
       "      <th>UG_Scale</th>\n",
       "      <th>Performance_12th</th>\n",
       "      <th>Performance_10th</th>\n",
       "    </tr>\n",
       "  </thead>\n",
       "  <tbody>\n",
       "    <tr>\n",
       "      <th>count</th>\n",
       "      <td>1.511910e+05</td>\n",
       "      <td>151191.000000</td>\n",
       "      <td>151191.000000</td>\n",
       "      <td>151191.000000</td>\n",
       "      <td>151191.000000</td>\n",
       "      <td>151191.000000</td>\n",
       "      <td>151191.000000</td>\n",
       "      <td>151191.000000</td>\n",
       "    </tr>\n",
       "    <tr>\n",
       "      <th>mean</th>\n",
       "      <td>2.173736e+07</td>\n",
       "      <td>2015.225152</td>\n",
       "      <td>4.560760</td>\n",
       "      <td>25.360002</td>\n",
       "      <td>32.506286</td>\n",
       "      <td>47.842054</td>\n",
       "      <td>77.652632</td>\n",
       "      <td>78.335971</td>\n",
       "    </tr>\n",
       "    <tr>\n",
       "      <th>std</th>\n",
       "      <td>2.828474e+07</td>\n",
       "      <td>1.434272</td>\n",
       "      <td>16.150917</td>\n",
       "      <td>34.032013</td>\n",
       "      <td>30.976177</td>\n",
       "      <td>44.642229</td>\n",
       "      <td>14.597772</td>\n",
       "      <td>19.731535</td>\n",
       "    </tr>\n",
       "    <tr>\n",
       "      <th>min</th>\n",
       "      <td>7.654321e+06</td>\n",
       "      <td>2001.000000</td>\n",
       "      <td>0.000000</td>\n",
       "      <td>4.000000</td>\n",
       "      <td>0.000000</td>\n",
       "      <td>4.000000</td>\n",
       "      <td>0.000000</td>\n",
       "      <td>0.000000</td>\n",
       "    </tr>\n",
       "    <tr>\n",
       "      <th>25%</th>\n",
       "      <td>7.671942e+06</td>\n",
       "      <td>2015.000000</td>\n",
       "      <td>0.000000</td>\n",
       "      <td>10.000000</td>\n",
       "      <td>7.200000</td>\n",
       "      <td>10.000000</td>\n",
       "      <td>69.000000</td>\n",
       "      <td>74.000000</td>\n",
       "    </tr>\n",
       "    <tr>\n",
       "      <th>50%</th>\n",
       "      <td>7.690571e+06</td>\n",
       "      <td>2015.000000</td>\n",
       "      <td>0.000000</td>\n",
       "      <td>10.000000</td>\n",
       "      <td>8.660000</td>\n",
       "      <td>10.000000</td>\n",
       "      <td>80.000000</td>\n",
       "      <td>84.000000</td>\n",
       "    </tr>\n",
       "    <tr>\n",
       "      <th>75%</th>\n",
       "      <td>7.708364e+06</td>\n",
       "      <td>2016.000000</td>\n",
       "      <td>0.000000</td>\n",
       "      <td>10.000000</td>\n",
       "      <td>66.000000</td>\n",
       "      <td>100.000000</td>\n",
       "      <td>89.000000</td>\n",
       "      <td>90.800000</td>\n",
       "    </tr>\n",
       "    <tr>\n",
       "      <th>max</th>\n",
       "      <td>7.866876e+07</td>\n",
       "      <td>2020.000000</td>\n",
       "      <td>100.000000</td>\n",
       "      <td>100.000000</td>\n",
       "      <td>100.000000</td>\n",
       "      <td>100.000000</td>\n",
       "      <td>100.000000</td>\n",
       "      <td>100.000000</td>\n",
       "    </tr>\n",
       "  </tbody>\n",
       "</table>\n",
       "</div>"
      ],
      "text/plain": [
       "         Student_ID  Year_of_graduation  Performance_PG       PG_scale  \\\n",
       "count  1.511910e+05       151191.000000   151191.000000  151191.000000   \n",
       "mean   2.173736e+07         2015.225152        4.560760      25.360002   \n",
       "std    2.828474e+07            1.434272       16.150917      34.032013   \n",
       "min    7.654321e+06         2001.000000        0.000000       4.000000   \n",
       "25%    7.671942e+06         2015.000000        0.000000      10.000000   \n",
       "50%    7.690571e+06         2015.000000        0.000000      10.000000   \n",
       "75%    7.708364e+06         2016.000000        0.000000      10.000000   \n",
       "max    7.866876e+07         2020.000000      100.000000     100.000000   \n",
       "\n",
       "       Performance_UG       UG_Scale  Performance_12th  Performance_10th  \n",
       "count   151191.000000  151191.000000     151191.000000     151191.000000  \n",
       "mean        32.506286      47.842054         77.652632         78.335971  \n",
       "std         30.976177      44.642229         14.597772         19.731535  \n",
       "min          0.000000       4.000000          0.000000          0.000000  \n",
       "25%          7.200000      10.000000         69.000000         74.000000  \n",
       "50%          8.660000      10.000000         80.000000         84.000000  \n",
       "75%         66.000000     100.000000         89.000000         90.800000  \n",
       "max        100.000000     100.000000        100.000000        100.000000  "
      ]
     },
     "execution_count": 7,
     "metadata": {},
     "output_type": "execute_result"
    }
   ],
   "source": [
    "df_student.describe()"
   ]
  },
  {
   "cell_type": "code",
   "execution_count": 8,
   "metadata": {},
   "outputs": [
    {
     "data": {
      "text/html": [
       "<div>\n",
       "<style scoped>\n",
       "    .dataframe tbody tr th:only-of-type {\n",
       "        vertical-align: middle;\n",
       "    }\n",
       "\n",
       "    .dataframe tbody tr th {\n",
       "        vertical-align: top;\n",
       "    }\n",
       "\n",
       "    .dataframe thead th {\n",
       "        text-align: right;\n",
       "    }\n",
       "</style>\n",
       "<table border=\"1\" class=\"dataframe\">\n",
       "  <thead>\n",
       "    <tr style=\"text-align: right;\">\n",
       "      <th></th>\n",
       "      <th>Internship_ID</th>\n",
       "      <th>Student_ID</th>\n",
       "      <th>Minimum_Duration</th>\n",
       "      <th>Is_Part_Time</th>\n",
       "      <th>Is_Shortlisted</th>\n",
       "    </tr>\n",
       "  </thead>\n",
       "  <tbody>\n",
       "    <tr>\n",
       "      <th>count</th>\n",
       "      <td>192582.000000</td>\n",
       "      <td>1.925820e+05</td>\n",
       "      <td>192582.000000</td>\n",
       "      <td>192582.000000</td>\n",
       "      <td>192582.000000</td>\n",
       "    </tr>\n",
       "    <tr>\n",
       "      <th>mean</th>\n",
       "      <td>7910.562919</td>\n",
       "      <td>2.161640e+07</td>\n",
       "      <td>3.790043</td>\n",
       "      <td>0.343012</td>\n",
       "      <td>0.127629</td>\n",
       "    </tr>\n",
       "    <tr>\n",
       "      <th>std</th>\n",
       "      <td>2006.863160</td>\n",
       "      <td>2.819268e+07</td>\n",
       "      <td>2.702877</td>\n",
       "      <td>0.474717</td>\n",
       "      <td>0.333677</td>\n",
       "    </tr>\n",
       "    <tr>\n",
       "      <th>min</th>\n",
       "      <td>4568.000000</td>\n",
       "      <td>7.654321e+06</td>\n",
       "      <td>1.000000</td>\n",
       "      <td>0.000000</td>\n",
       "      <td>0.000000</td>\n",
       "    </tr>\n",
       "    <tr>\n",
       "      <th>25%</th>\n",
       "      <td>6111.000000</td>\n",
       "      <td>7.672068e+06</td>\n",
       "      <td>2.000000</td>\n",
       "      <td>0.000000</td>\n",
       "      <td>0.000000</td>\n",
       "    </tr>\n",
       "    <tr>\n",
       "      <th>50%</th>\n",
       "      <td>8072.000000</td>\n",
       "      <td>7.690870e+06</td>\n",
       "      <td>3.000000</td>\n",
       "      <td>0.000000</td>\n",
       "      <td>0.000000</td>\n",
       "    </tr>\n",
       "    <tr>\n",
       "      <th>75%</th>\n",
       "      <td>9649.000000</td>\n",
       "      <td>7.708160e+06</td>\n",
       "      <td>6.000000</td>\n",
       "      <td>1.000000</td>\n",
       "      <td>0.000000</td>\n",
       "    </tr>\n",
       "    <tr>\n",
       "      <th>max</th>\n",
       "      <td>11334.000000</td>\n",
       "      <td>7.866825e+07</td>\n",
       "      <td>12.000000</td>\n",
       "      <td>1.000000</td>\n",
       "      <td>1.000000</td>\n",
       "    </tr>\n",
       "  </tbody>\n",
       "</table>\n",
       "</div>"
      ],
      "text/plain": [
       "       Internship_ID    Student_ID  Minimum_Duration   Is_Part_Time  \\\n",
       "count  192582.000000  1.925820e+05     192582.000000  192582.000000   \n",
       "mean     7910.562919  2.161640e+07          3.790043       0.343012   \n",
       "std      2006.863160  2.819268e+07          2.702877       0.474717   \n",
       "min      4568.000000  7.654321e+06          1.000000       0.000000   \n",
       "25%      6111.000000  7.672068e+06          2.000000       0.000000   \n",
       "50%      8072.000000  7.690870e+06          3.000000       0.000000   \n",
       "75%      9649.000000  7.708160e+06          6.000000       1.000000   \n",
       "max     11334.000000  7.866825e+07         12.000000       1.000000   \n",
       "\n",
       "       Is_Shortlisted  \n",
       "count   192582.000000  \n",
       "mean         0.127629  \n",
       "std          0.333677  \n",
       "min          0.000000  \n",
       "25%          0.000000  \n",
       "50%          0.000000  \n",
       "75%          0.000000  \n",
       "max          1.000000  "
      ]
     },
     "execution_count": 8,
     "metadata": {},
     "output_type": "execute_result"
    }
   ],
   "source": [
    "df_train.describe()"
   ]
  },
  {
   "cell_type": "code",
   "execution_count": 9,
   "metadata": {},
   "outputs": [
    {
     "data": {
      "text/html": [
       "<div>\n",
       "<style scoped>\n",
       "    .dataframe tbody tr th:only-of-type {\n",
       "        vertical-align: middle;\n",
       "    }\n",
       "\n",
       "    .dataframe tbody tr th {\n",
       "        vertical-align: top;\n",
       "    }\n",
       "\n",
       "    .dataframe thead th {\n",
       "        text-align: right;\n",
       "    }\n",
       "</style>\n",
       "<table border=\"1\" class=\"dataframe\">\n",
       "  <thead>\n",
       "    <tr style=\"text-align: right;\">\n",
       "      <th></th>\n",
       "      <th>Internship_ID</th>\n",
       "      <th>Internship_Profile</th>\n",
       "      <th>Skills_required</th>\n",
       "      <th>Internship_Type</th>\n",
       "      <th>Internship_Location</th>\n",
       "      <th>Internship_category</th>\n",
       "      <th>No_of_openings</th>\n",
       "      <th>Stipend_Type</th>\n",
       "      <th>Stipend1</th>\n",
       "      <th>Stipend2</th>\n",
       "      <th>...</th>\n",
       "      <th>PhoneGap</th>\n",
       "      <th>Storytelling</th>\n",
       "      <th>MySQL.</th>\n",
       "      <th>Ionic</th>\n",
       "      <th>Design Skills</th>\n",
       "      <th>Corporate Sales</th>\n",
       "      <th>Entrepreneurship</th>\n",
       "      <th>Films</th>\n",
       "      <th>Foundation</th>\n",
       "      <th>Payment Gateway</th>\n",
       "    </tr>\n",
       "  </thead>\n",
       "  <tbody>\n",
       "    <tr>\n",
       "      <th>0</th>\n",
       "      <td>6653</td>\n",
       "      <td>Creative Content Writing</td>\n",
       "      <td>NaN</td>\n",
       "      <td>virtual</td>\n",
       "      <td>IIGB</td>\n",
       "      <td>Part time</td>\n",
       "      <td>5</td>\n",
       "      <td>variable</td>\n",
       "      <td>1500.0</td>\n",
       "      <td>2000.0</td>\n",
       "      <td>...</td>\n",
       "      <td>0</td>\n",
       "      <td>0</td>\n",
       "      <td>0</td>\n",
       "      <td>0</td>\n",
       "      <td>0</td>\n",
       "      <td>0</td>\n",
       "      <td>0</td>\n",
       "      <td>0</td>\n",
       "      <td>0</td>\n",
       "      <td>0</td>\n",
       "    </tr>\n",
       "    <tr>\n",
       "      <th>1</th>\n",
       "      <td>9351</td>\n",
       "      <td>Strategic Philanthropy</td>\n",
       "      <td>NaN</td>\n",
       "      <td>regular</td>\n",
       "      <td>JABD</td>\n",
       "      <td>Part time</td>\n",
       "      <td>5</td>\n",
       "      <td>unpaid</td>\n",
       "      <td>NaN</td>\n",
       "      <td>NaN</td>\n",
       "      <td>...</td>\n",
       "      <td>0</td>\n",
       "      <td>0</td>\n",
       "      <td>0</td>\n",
       "      <td>0</td>\n",
       "      <td>0</td>\n",
       "      <td>0</td>\n",
       "      <td>0</td>\n",
       "      <td>0</td>\n",
       "      <td>0</td>\n",
       "      <td>0</td>\n",
       "    </tr>\n",
       "  </tbody>\n",
       "</table>\n",
       "<p>2 rows × 286 columns</p>\n",
       "</div>"
      ],
      "text/plain": [
       "   Internship_ID        Internship_Profile Skills_required Internship_Type  \\\n",
       "0           6653  Creative Content Writing             NaN         virtual   \n",
       "1           9351    Strategic Philanthropy             NaN         regular   \n",
       "\n",
       "  Internship_Location Internship_category  No_of_openings Stipend_Type  \\\n",
       "0                IIGB           Part time               5     variable   \n",
       "1                JABD           Part time               5       unpaid   \n",
       "\n",
       "   Stipend1  Stipend2  ... PhoneGap Storytelling  MySQL.  Ionic  \\\n",
       "0    1500.0    2000.0  ...        0            0       0      0   \n",
       "1       NaN       NaN  ...        0            0       0      0   \n",
       "\n",
       "   Design Skills  Corporate Sales  Entrepreneurship  Films  Foundation  \\\n",
       "0              0                0                 0      0           0   \n",
       "1              0                0                 0      0           0   \n",
       "\n",
       "   Payment Gateway  \n",
       "0                0  \n",
       "1                0  \n",
       "\n",
       "[2 rows x 286 columns]"
      ]
     },
     "execution_count": 9,
     "metadata": {},
     "output_type": "execute_result"
    }
   ],
   "source": [
    "# View Internships\n",
    "df_internship.head(2)"
   ]
  },
  {
   "cell_type": "code",
   "execution_count": 10,
   "metadata": {},
   "outputs": [
    {
     "data": {
      "text/html": [
       "<div>\n",
       "<style scoped>\n",
       "    .dataframe tbody tr th:only-of-type {\n",
       "        vertical-align: middle;\n",
       "    }\n",
       "\n",
       "    .dataframe tbody tr th {\n",
       "        vertical-align: top;\n",
       "    }\n",
       "\n",
       "    .dataframe thead th {\n",
       "        text-align: right;\n",
       "    }\n",
       "</style>\n",
       "<table border=\"1\" class=\"dataframe\">\n",
       "  <thead>\n",
       "    <tr style=\"text-align: right;\">\n",
       "      <th></th>\n",
       "      <th>Student_ID</th>\n",
       "      <th>Institute_Category</th>\n",
       "      <th>Institute_location</th>\n",
       "      <th>hometown</th>\n",
       "      <th>Degree</th>\n",
       "      <th>Stream</th>\n",
       "      <th>Current_year</th>\n",
       "      <th>Year_of_graduation</th>\n",
       "      <th>Performance_PG</th>\n",
       "      <th>PG_scale</th>\n",
       "      <th>Performance_UG</th>\n",
       "      <th>UG_Scale</th>\n",
       "      <th>Performance_12th</th>\n",
       "      <th>Performance_10th</th>\n",
       "      <th>Experience_Type</th>\n",
       "      <th>Profile</th>\n",
       "      <th>Location</th>\n",
       "      <th>Start Date</th>\n",
       "      <th>End Date</th>\n",
       "    </tr>\n",
       "  </thead>\n",
       "  <tbody>\n",
       "    <tr>\n",
       "      <th>0</th>\n",
       "      <td>7654321</td>\n",
       "      <td>Y</td>\n",
       "      <td>JADH</td>\n",
       "      <td>IIDB</td>\n",
       "      <td>B.Tech and M.Tech (Dual Degree)</td>\n",
       "      <td>Mathematics &amp; Computing</td>\n",
       "      <td>already a graduate</td>\n",
       "      <td>2012</td>\n",
       "      <td>8.5</td>\n",
       "      <td>10</td>\n",
       "      <td>8.6</td>\n",
       "      <td>10</td>\n",
       "      <td>86.2</td>\n",
       "      <td>91.6</td>\n",
       "      <td>job</td>\n",
       "      <td>Software Engineering</td>\n",
       "      <td>IJCE</td>\n",
       "      <td>18-06-2013</td>\n",
       "      <td>21-06-2014</td>\n",
       "    </tr>\n",
       "    <tr>\n",
       "      <th>1</th>\n",
       "      <td>7654321</td>\n",
       "      <td>Y</td>\n",
       "      <td>JADH</td>\n",
       "      <td>IIDB</td>\n",
       "      <td>B.Tech and M.Tech (Dual Degree)</td>\n",
       "      <td>Mathematics &amp; Computing</td>\n",
       "      <td>already a graduate</td>\n",
       "      <td>2012</td>\n",
       "      <td>8.5</td>\n",
       "      <td>10</td>\n",
       "      <td>8.6</td>\n",
       "      <td>10</td>\n",
       "      <td>86.2</td>\n",
       "      <td>91.6</td>\n",
       "      <td>job</td>\n",
       "      <td>Software Development</td>\n",
       "      <td>IIDB</td>\n",
       "      <td>01-07-2013</td>\n",
       "      <td>NaN</td>\n",
       "    </tr>\n",
       "  </tbody>\n",
       "</table>\n",
       "</div>"
      ],
      "text/plain": [
       "   Student_ID Institute_Category Institute_location hometown  \\\n",
       "0     7654321                  Y               JADH     IIDB   \n",
       "1     7654321                  Y               JADH     IIDB   \n",
       "\n",
       "                            Degree                   Stream  \\\n",
       "0  B.Tech and M.Tech (Dual Degree)  Mathematics & Computing   \n",
       "1  B.Tech and M.Tech (Dual Degree)  Mathematics & Computing   \n",
       "\n",
       "         Current_year  Year_of_graduation  Performance_PG  PG_scale  \\\n",
       "0  already a graduate                2012             8.5        10   \n",
       "1  already a graduate                2012             8.5        10   \n",
       "\n",
       "   Performance_UG  UG_Scale  Performance_12th  Performance_10th  \\\n",
       "0             8.6        10              86.2              91.6   \n",
       "1             8.6        10              86.2              91.6   \n",
       "\n",
       "  Experience_Type               Profile Location  Start Date    End Date  \n",
       "0             job  Software Engineering     IJCE  18-06-2013  21-06-2014  \n",
       "1             job  Software Development     IIDB  01-07-2013         NaN  "
      ]
     },
     "execution_count": 10,
     "metadata": {},
     "output_type": "execute_result"
    }
   ],
   "source": [
    "# VIew Students Applicants\n",
    "df_student.head(2)"
   ]
  },
  {
   "cell_type": "code",
   "execution_count": 11,
   "metadata": {},
   "outputs": [
    {
     "data": {
      "text/html": [
       "<div>\n",
       "<style scoped>\n",
       "    .dataframe tbody tr th:only-of-type {\n",
       "        vertical-align: middle;\n",
       "    }\n",
       "\n",
       "    .dataframe tbody tr th {\n",
       "        vertical-align: top;\n",
       "    }\n",
       "\n",
       "    .dataframe thead th {\n",
       "        text-align: right;\n",
       "    }\n",
       "</style>\n",
       "<table border=\"1\" class=\"dataframe\">\n",
       "  <thead>\n",
       "    <tr style=\"text-align: right;\">\n",
       "      <th></th>\n",
       "      <th>Internship_ID</th>\n",
       "      <th>Student_ID</th>\n",
       "      <th>Earliest_Start_Date</th>\n",
       "      <th>Expected_Stipend</th>\n",
       "      <th>Minimum_Duration</th>\n",
       "      <th>Preferred_location</th>\n",
       "      <th>Is_Part_Time</th>\n",
       "      <th>Is_Shortlisted</th>\n",
       "    </tr>\n",
       "  </thead>\n",
       "  <tbody>\n",
       "    <tr>\n",
       "      <th>0</th>\n",
       "      <td>8161</td>\n",
       "      <td>78663553</td>\n",
       "      <td>03-01-2015</td>\n",
       "      <td>2-5K</td>\n",
       "      <td>3</td>\n",
       "      <td>NaN</td>\n",
       "      <td>0</td>\n",
       "      <td>0</td>\n",
       "    </tr>\n",
       "    <tr>\n",
       "      <th>1</th>\n",
       "      <td>4977</td>\n",
       "      <td>7695797</td>\n",
       "      <td>19-12-2014</td>\n",
       "      <td>5-10K</td>\n",
       "      <td>2</td>\n",
       "      <td>IHFG</td>\n",
       "      <td>1</td>\n",
       "      <td>0</td>\n",
       "    </tr>\n",
       "  </tbody>\n",
       "</table>\n",
       "</div>"
      ],
      "text/plain": [
       "   Internship_ID  Student_ID Earliest_Start_Date Expected_Stipend  \\\n",
       "0           8161    78663553          03-01-2015             2-5K   \n",
       "1           4977     7695797          19-12-2014            5-10K   \n",
       "\n",
       "   Minimum_Duration Preferred_location  Is_Part_Time  Is_Shortlisted  \n",
       "0                 3                NaN             0               0  \n",
       "1                 2               IHFG             1               0  "
      ]
     },
     "execution_count": 11,
     "metadata": {},
     "output_type": "execute_result"
    }
   ],
   "source": [
    "# View Training Data\n",
    "df_train.head(2)"
   ]
  },
  {
   "cell_type": "markdown",
   "metadata": {},
   "source": [
    "# Modeling"
   ]
  },
  {
   "cell_type": "markdown",
   "metadata": {},
   "source": [
    "### The csv file saved in R environment is imported in python environment for further processing\n"
   ]
  },
  {
   "cell_type": "code",
   "execution_count": 1,
   "metadata": {},
   "outputs": [],
   "source": [
    "# Load the Libraries\n",
    "import pandas as pd\n",
    "import numpy as np\n",
    "import matplotlib.pyplot as plt\n",
    "%matplotlib inline\n",
    "from matplotlib.pylab import rcParams\n",
    "rcParams['figure.figsize'] = 12, 4"
   ]
  },
  {
   "cell_type": "code",
   "execution_count": 2,
   "metadata": {},
   "outputs": [],
   "source": [
    "train = pd.read_csv('../input/TrainD.csv')\n",
    "test = pd.read_csv('../input/TestD.csv')"
   ]
  },
  {
   "cell_type": "code",
   "execution_count": 3,
   "metadata": {},
   "outputs": [
    {
     "data": {
      "text/plain": [
       "((192582, 118), (107428, 117))"
      ]
     },
     "execution_count": 3,
     "metadata": {},
     "output_type": "execute_result"
    }
   ],
   "source": [
    "train.shape,test.shape"
   ]
  },
  {
   "cell_type": "code",
   "execution_count": 4,
   "metadata": {},
   "outputs": [
    {
     "data": {
      "text/plain": [
       "Internship_ID                           int64\n",
       "Student_ID                              int64\n",
       "Expected_Stipend                        int64\n",
       "Minimum_Duration                        int64\n",
       "Is_Part_Time                            int64\n",
       "Institute_Category                      int64\n",
       "Performance_PG                        float64\n",
       "Performance_UG                        float64\n",
       "Performance_12th                      float64\n",
       "Performance_10th                      float64\n",
       "Num_Exp_Row                             int64\n",
       "No_of_openings                          int64\n",
       "Internship_Duration.Months.             int64\n",
       "Exp_tenure                              int64\n",
       "Is_PlNo_Pref                            int64\n",
       "Is_PlIHFG                               int64\n",
       "Is_PlIHJB                               int64\n",
       "Is_PlIIBD                               int64\n",
       "Is_PlIIDB                               int64\n",
       "Is_PlIJBG                               int64\n",
       "Is_PlIJCE                               int64\n",
       "Is_PlIJJI                               int64\n",
       "Is_PlJABD                               int64\n",
       "Is_PlJBDB                               int64\n",
       "Is_InstLoc_IHHF                         int64\n",
       "Is_InstLoc_IHHH                         int64\n",
       "Is_InstLoc_IHJB                         int64\n",
       "Is_InstLoc_IJCE                         int64\n",
       "Is_InstLoc_IHJC                         int64\n",
       "Is_InstLoc_IIBD                         int64\n",
       "                                       ...   \n",
       "data4.Experience_Typeother              int64\n",
       "data4.Experience_Typeparticipation      int64\n",
       "data4.Experience_Typepor                int64\n",
       "data4.Experience_Typetraining           int64\n",
       "data4.Experience_Typeworkshop           int64\n",
       "data4.Internship_Typeregular            int64\n",
       "data4.Internship_Typevirtual            int64\n",
       "data4.Internship_categoryFull.Time      int64\n",
       "data4.Internship_categoryPart.time      int64\n",
       "data4.Stipend_Typefixed                 int64\n",
       "data4.Stipend_Typeperformance           int64\n",
       "data4.Stipend_Typeunpaid                int64\n",
       "data4.Stipend_Typevariable              int64\n",
       "Pref_Intern_LocMatch                    int64\n",
       "St_EMatch                               int64\n",
       "Stip_range                              int64\n",
       "Duration_Match                          int64\n",
       "Inst_Intern_LocMatch                    int64\n",
       "hometown_Intern_LocMatch                int64\n",
       "Dif_Yog_IntD                            int64\n",
       "Neg_Dif_Yog_IntD                        int64\n",
       "Is_PG                                   int64\n",
       "Is_Prof                                 int64\n",
       "Workex_Intern_LocMatch                  int64\n",
       "Num_Applicant                           int64\n",
       "Open_App_Ratio                        float64\n",
       "Diff_Intdl_StrD                       float64\n",
       "NoCross_Deadline                      float64\n",
       "Deadline2015                            int64\n",
       "Is_Shortlisted                          int64\n",
       "Length: 118, dtype: object"
      ]
     },
     "execution_count": 4,
     "metadata": {},
     "output_type": "execute_result"
    }
   ],
   "source": [
    "train.dtypes"
   ]
  },
  {
   "cell_type": "code",
   "execution_count": 5,
   "metadata": {},
   "outputs": [],
   "source": [
    "from sklearn.ensemble import GradientBoostingClassifier\n",
    "from sklearn.model_selection import cross_val_score, GridSearchCV\n",
    "from sklearn import metrics "
   ]
  },
  {
   "cell_type": "code",
   "execution_count": 6,
   "metadata": {},
   "outputs": [],
   "source": [
    "target='Is_Shortlisted'\n",
    "Internship_ID = 'Internship_ID'\n",
    "Student_ID = 'Student_ID'"
   ]
  },
  {
   "cell_type": "code",
   "execution_count": 7,
   "metadata": {},
   "outputs": [
    {
     "data": {
      "text/plain": [
       "0    168003\n",
       "1     24579\n",
       "Name: Is_Shortlisted, dtype: int64"
      ]
     },
     "execution_count": 7,
     "metadata": {},
     "output_type": "execute_result"
    }
   ],
   "source": [
    "train['Is_Shortlisted'].value_counts()"
   ]
  },
  {
   "cell_type": "code",
   "execution_count": 8,
   "metadata": {},
   "outputs": [],
   "source": [
    "def modelfit(alg, dtrain, dtest, predictors, performCV=True, printFeatureImportance=True, cv_folds=5):\n",
    "    #Fit the algorithm on the data\n",
    "    alg.fit(dtrain[predictors], dtrain['Is_Shortlisted'])\n",
    "        \n",
    "    #Predict training set:\n",
    "    dtrain_predictions = alg.predict(dtrain[predictors])\n",
    "    dtrain_predprob = alg.predict_proba(dtrain[predictors])[:,1]\n",
    "    \n",
    "    #Perform cross-validation:\n",
    "    if performCV:\n",
    "        cv_score = cross_val_score(alg, dtrain[predictors], dtrain['Is_Shortlisted'], cv=cv_folds, scoring='roc_auc')\n",
    "    \n",
    "    #Print model report:\n",
    "    print (\"\\nModel Report\")\n",
    "    print (\"Accuracy : %.4g\" % metrics.accuracy_score(dtrain['Is_Shortlisted'].values, dtrain_predictions))\n",
    "    print (\"AUC Score (Train): %f\" % metrics.roc_auc_score(dtrain['Is_Shortlisted'], dtrain_predprob))\n",
    "    \n",
    "    if performCV:\n",
    "        print (\"CV Score : Mean - %.7g | Std - %.7g | Min - %.7g | Max - %.7g\" % (np.mean(cv_score),np.std(cv_score),np.min(cv_score),np.max(cv_score)))\n",
    "                \n",
    "    #Print Feature Importance:\n",
    "    if printFeatureImportance:\n",
    "        feat_imp = pd.Series(alg.feature_importances_, predictors).sort_values(ascending=False)\n",
    "        feat_imp.plot(kind='bar', title='Feature Importances')\n",
    "        plt.ylabel('Feature Importance Score')"
   ]
  },
  {
   "cell_type": "markdown",
   "metadata": {},
   "source": [
    "### Baseline Model\n",
    "* Since here the criteria is AUC, simply predicting the most prominent class would give an AUC of 0.5 always. \n",
    "* Another way of getting a baseline model is to use the algorithm without tuning, i.e. with default parameters.\n"
   ]
  },
  {
   "cell_type": "code",
   "execution_count": 9,
   "metadata": {},
   "outputs": [],
   "source": [
    "#Choose all predictors except target & IDcols\n",
    "predictors = [x for x in train.columns if x not in [target, Internship_ID,Student_ID]]\n",
    "gbm0 = GradientBoostingClassifier(random_state=10)\n"
   ]
  },
  {
   "cell_type": "code",
   "execution_count": 10,
   "metadata": {},
   "outputs": [
    {
     "data": {
      "text/plain": [
       "(True, False)"
      ]
     },
     "execution_count": 10,
     "metadata": {},
     "output_type": "execute_result"
    }
   ],
   "source": [
    "# to check if there is any NaN\n",
    "np.any(np.isnan(train)), np.all(np.isfinite(train))"
   ]
  },
  {
   "cell_type": "code",
   "execution_count": 11,
   "metadata": {},
   "outputs": [
    {
     "data": {
      "text/plain": [
       "(False, True)"
      ]
     },
     "execution_count": 11,
     "metadata": {},
     "output_type": "execute_result"
    }
   ],
   "source": [
    "train.fillna(0,inplace=True) # fill 0 inpalce of NaN\n",
    "# to check after filling NaN\n",
    "np.any(np.isnan(train)), np.all(np.isfinite(train))"
   ]
  },
  {
   "cell_type": "code",
   "execution_count": 12,
   "metadata": {},
   "outputs": [
    {
     "name": "stdout",
     "output_type": "stream",
     "text": [
      "\n",
      "Model Report\n",
      "Accuracy : 0.8758\n",
      "AUC Score (Train): 0.750221\n",
      "CV Score : Mean - 0.6623082 | Std - 0.01868213 | Min - 0.6375912 | Max - 0.6816427\n"
     ]
    },
    {
     "data": {
      "image/png": "[encoded data removed]",
      "text/plain": [
       "<Figure size 432x288 with 1 Axes>"
      ]
     },
     "metadata": {},
     "output_type": "display_data"
    }
   ],
   "source": [
    "modelfit(gbm0, train, test, predictors)"
   ]
  },
  {
   "cell_type": "code",
   "execution_count": 13,
   "metadata": {},
   "outputs": [
    {
     "data": {
      "text/plain": [
       "Num_Applicant                         0.148870\n",
       "data4.Internship_Typeregular          0.053917\n",
       "No_of_openings                        0.052579\n",
       "Stip_range                            0.044923\n",
       "Is_SR_No                              0.044619\n",
       "Internship_Duration.Months.           0.034010\n",
       "data4.Internship_categoryPart.time    0.026140\n",
       "data4.Stipend_Typeunpaid              0.023760\n",
       "data4.Internship_categoryFull.Time    0.020248\n",
       "Is_IntrnLoc_IIGB                      0.020024\n",
       "Is_IP_CW                              0.019891\n",
       "hometown_Intern_LocMatch              0.016766\n",
       "Duration_Match                        0.016419\n",
       "Num_Exp_Row                           0.015190\n",
       "Diff_Intdl_StrD                       0.014788\n",
       "Is_IP_MK                              0.012739\n",
       "data4.Stipend_Typeperformance         0.012451\n",
       "Inf_hometown                          0.011311\n",
       "Institute_Category                    0.010755\n",
       "Performance_10th                      0.010601\n",
       "Performance_12th                      0.010076\n",
       "data4.Stipend_Typefixed               0.010065\n",
       "Minimum_Duration                      0.008578\n",
       "data4.Experience_Typeinternship       0.008537\n",
       "data4.Internship_Typevirtual          0.008481\n",
       "Is_Prof                               0.008454\n",
       "Workex_Intern_LocMatch                0.007700\n",
       "Is_IP_AD                              0.007521\n",
       "Inst_Intern_LocMatch                  0.007435\n",
       "dtype: float64"
      ]
     },
     "execution_count": 13,
     "metadata": {},
     "output_type": "execute_result"
    }
   ],
   "source": [
    "pd.Series(gbm0.feature_importances_, predictors).sort_values(ascending=False)[1:30]"
   ]
  },
  {
   "cell_type": "code",
   "execution_count": 14,
   "metadata": {},
   "outputs": [],
   "source": [
    "#Taking important features as predictors\n",
    "predictors1= ['Stip_range','Num_Applicant','No_of_openings','Internship_Duration.Months.','Is_SR_No','Diff_Intdl_StrD', 'Minimum_Duration','Performance_10th','data4.Internship_categoryPart.time','Num_Exp_Row','Duration_Match', 'hometown_Intern_LocMatch','data4.Internship_Typeregular','data4.Stipend_Typeunpaid','Is_IP_MK','Inf_hometown', 'Is_IP_CW','Institute_Category','data4.Stipend_Typeperformance','data4.Internship_Typevirtual','data4.Experience_Typeinternship','Inst_Intern_LocMatch','Is_Prof','Performance_12th','Is_IntrnLoc_JABD','data4.Stipend_Typefixed','Workex_Intern_LocMatch','Is_IP_AD','Performance_UG','Is_PlIJCE', 'data4.Internship_categoryFull.Time','data4.Stipend_Typevariable','Is_IntrnLoc_IIGB','Is_InstLoc_IIIF','Is_IP_BD','NoCross_Deadline','Is_PlNo_Pref','Is_PlIHJB','Is_StrMarketing','Is_IntrnLoc_IIDB','Is_IP_WD','Is_IntrnLoc_IIBD','Is_IntrnLoc_JEJJ','Is_IP_SD','Is_InstLoc_IIDB','Is_StrCommerce','Exp_tenure','Is_Part_Time','St_EMatch','Dif_Yog_IntD','data4.Experience_Typeacademic_project','data4.Current_year2','data4.Experience_TypeNo_Exp','Expected_Stipend','Is_Prof_Marketing','Is_MTech','Is_PlIIDB']"
   ]
  },
  {
   "cell_type": "code",
   "execution_count": 15,
   "metadata": {},
   "outputs": [
    {
     "data": {
      "text/plain": [
       "GridSearchCV(cv=5, error_score='raise-deprecating',\n",
       "       estimator=GradientBoostingClassifier(criterion='friedman_mse', init=None,\n",
       "              learning_rate=0.1, loss='deviance', max_depth=8,\n",
       "              max_features='sqrt', max_leaf_nodes=None,\n",
       "              min_impurity_decrease=0.0, min_impurity_split=None,\n",
       "              min_samples_leaf=50, min_sa...      subsample=0.8, tol=0.0001, validation_fraction=0.1,\n",
       "              verbose=0, warm_start=False),\n",
       "       fit_params=None, iid=False, n_jobs=4,\n",
       "       param_grid={'n_estimators': range(20, 81, 10)},\n",
       "       pre_dispatch='2*n_jobs', refit=True, return_train_score='warn',\n",
       "       scoring='roc_auc', verbose=0)"
      ]
     },
     "execution_count": 15,
     "metadata": {},
     "output_type": "execute_result"
    }
   ],
   "source": [
    "#Choose important predictors and excepting target & IDcols\n",
    "predictors = predictors1\n",
    "param_test1 = {'n_estimators':range(20,81,10)}\n",
    "gsearch1 = GridSearchCV(estimator = GradientBoostingClassifier(learning_rate=0.1, min_samples_split=500, min_samples_leaf=50,max_depth=8,max_features='sqrt', subsample=0.8,random_state=10), param_grid = param_test1, scoring='roc_auc',n_jobs=4,iid=False, cv=5)\n",
    "gsearch1.fit(train[predictors],train[target])"
   ]
  },
  {
   "cell_type": "code",
   "execution_count": 20,
   "metadata": {},
   "outputs": [
    {
     "data": {
      "text/plain": [
       "0.6750645216043039"
      ]
     },
     "execution_count": 20,
     "metadata": {},
     "output_type": "execute_result"
    }
   ],
   "source": [
    "#gsearch1.grid_scores_\n",
    "gsearch1.cv_results_\n",
    "gsearch1.best_params_\n",
    "gsearch1.best_score_"
   ]
  },
  {
   "cell_type": "code",
   "execution_count": 21,
   "metadata": {},
   "outputs": [
    {
     "data": {
      "text/plain": [
       "GridSearchCV(cv=5, error_score='raise-deprecating',\n",
       "       estimator=GradientBoostingClassifier(criterion='friedman_mse', init=None,\n",
       "              learning_rate=0.1, loss='deviance', max_depth=3,\n",
       "              max_features='sqrt', max_leaf_nodes=None,\n",
       "              min_impurity_decrease=0.0, min_impurity_split=None,\n",
       "              min_samples_leaf=1, min_sam...      subsample=0.8, tol=0.0001, validation_fraction=0.1,\n",
       "              verbose=0, warm_start=False),\n",
       "       fit_params=None, iid=False, n_jobs=4,\n",
       "       param_grid={'max_depth': range(2, 7, 2), 'min_samples_split': range(100, 400, 100)},\n",
       "       pre_dispatch='2*n_jobs', refit=True, return_train_score='warn',\n",
       "       scoring='roc_auc', verbose=0)"
      ]
     },
     "execution_count": 21,
     "metadata": {},
     "output_type": "execute_result"
    }
   ],
   "source": [
    "#Grid seach on subsample and max_features\n",
    "predictors = predictors1\n",
    "param_test2 = {'max_depth':range(2,7,2), 'min_samples_split':range(100,400,100)}\n",
    "gsearch2 = GridSearchCV(estimator = GradientBoostingClassifier(learning_rate=0.1, n_estimators=70, max_features='sqrt', subsample=0.8, random_state=10), param_grid = param_test2, scoring='roc_auc',n_jobs=4,iid=False, cv=5)\n",
    "gsearch2.fit(train[predictors],train[target])"
   ]
  },
  {
   "cell_type": "code",
   "execution_count": 22,
   "metadata": {},
   "outputs": [
    {
     "data": {
      "text/plain": [
       "0.6743607942043763"
      ]
     },
     "execution_count": 22,
     "metadata": {},
     "output_type": "execute_result"
    }
   ],
   "source": [
    "#gsearch2.grid_scores_\n",
    "gsearch2.cv_results_\n",
    "gsearch2.best_params_\n",
    "gsearch2.best_score_"
   ]
  },
  {
   "cell_type": "code",
   "execution_count": 23,
   "metadata": {},
   "outputs": [
    {
     "data": {
      "text/plain": [
       "GridSearchCV(cv=5, error_score='raise-deprecating',\n",
       "       estimator=GradientBoostingClassifier(criterion='friedman_mse', init=None,\n",
       "              learning_rate=0.1, loss='deviance', max_depth=4,\n",
       "              max_features='sqrt', max_leaf_nodes=None,\n",
       "              min_impurity_decrease=0.0, min_impurity_split=None,\n",
       "              min_samples_leaf=1, min_sam...      subsample=0.8, tol=0.0001, validation_fraction=0.1,\n",
       "              verbose=0, warm_start=False),\n",
       "       fit_params=None, iid=False, n_jobs=4,\n",
       "       param_grid={'min_samples_split': range(50, 200, 50), 'min_samples_leaf': range(30, 71, 10)},\n",
       "       pre_dispatch='2*n_jobs', refit=True, return_train_score='warn',\n",
       "       scoring='roc_auc', verbose=0)"
      ]
     },
     "execution_count": 23,
     "metadata": {},
     "output_type": "execute_result"
    }
   ],
   "source": [
    "#Grid seach on subsample and max_features\n",
    "predictors = predictors1\n",
    "param_test3 = {'min_samples_split':range(50,200,50), 'min_samples_leaf':range(30,71,10)}\n",
    "gsearch3 = GridSearchCV(estimator = GradientBoostingClassifier(learning_rate=0.1, n_estimators=70,max_depth=4, max_features='sqrt', subsample=0.8, random_state=10), param_grid = param_test3, scoring='roc_auc',n_jobs=4,iid=False, cv=5)\n",
    "gsearch3.fit(train[predictors],train[target])"
   ]
  },
  {
   "cell_type": "code",
   "execution_count": 24,
   "metadata": {},
   "outputs": [
    {
     "data": {
      "text/plain": [
       "0.6830675608165294"
      ]
     },
     "execution_count": 24,
     "metadata": {},
     "output_type": "execute_result"
    }
   ],
   "source": [
    "#gsearch3.grid_scores_\n",
    "gsearch3.cv_results_\n",
    "gsearch3.best_estimator_\n",
    "gsearch3.best_score_"
   ]
  },
  {
   "cell_type": "code",
   "execution_count": 25,
   "metadata": {},
   "outputs": [
    {
     "name": "stdout",
     "output_type": "stream",
     "text": [
      "\n",
      "Model Report\n",
      "Accuracy : 0.8738\n",
      "AUC Score (Train): 0.746312\n",
      "CV Score : Mean - 0.6830676 | Std - 0.02256617 | Min - 0.6611235 | Max - 0.7245521\n"
     ]
    },
    {
     "data": {
      "image/png": "[encoded data removed]",
      "text/plain": [
       "<Figure size 432x288 with 1 Axes>"
      ]
     },
     "metadata": {},
     "output_type": "display_data"
    }
   ],
   "source": [
    "modelfit(gsearch3.best_estimator_, train, test, predictors)"
   ]
  },
  {
   "cell_type": "code",
   "execution_count": 26,
   "metadata": {},
   "outputs": [
    {
     "data": {
      "text/plain": [
       "GridSearchCV(cv=5, error_score='raise-deprecating',\n",
       "       estimator=GradientBoostingClassifier(criterion='friedman_mse', init=None,\n",
       "              learning_rate=0.1, loss='deviance', max_depth=4,\n",
       "              max_features=None, max_leaf_nodes=None,\n",
       "              min_impurity_decrease=0.0, min_impurity_split=None,\n",
       "              min_samples_leaf=70, min_samp...      subsample=0.8, tol=0.0001, validation_fraction=0.1,\n",
       "              verbose=0, warm_start=False),\n",
       "       fit_params=None, iid=False, n_jobs=4,\n",
       "       param_grid={'max_features': range(5, 20, 2)},\n",
       "       pre_dispatch='2*n_jobs', refit=True, return_train_score='warn',\n",
       "       scoring='roc_auc', verbose=0)"
      ]
     },
     "execution_count": 26,
     "metadata": {},
     "output_type": "execute_result"
    }
   ],
   "source": [
    "#Tune max_features:\n",
    "#Grid seach on subsample and max_features\n",
    "param_test4 = {'max_features':range(5,20,2)}\n",
    "gsearch4 = GridSearchCV(estimator = GradientBoostingClassifier(learning_rate=0.1, n_estimators=70,max_depth=4, min_samples_split=150, min_samples_leaf=70, subsample=0.8, random_state=10), param_grid = param_test4, scoring='roc_auc',n_jobs=4,iid=False, cv=5)\n",
    "gsearch4.fit(train[predictors],train[target])"
   ]
  },
  {
   "cell_type": "code",
   "execution_count": 27,
   "metadata": {},
   "outputs": [
    {
     "data": {
      "text/plain": [
       "0.6812990312698559"
      ]
     },
     "execution_count": 27,
     "metadata": {},
     "output_type": "execute_result"
    }
   ],
   "source": [
    "#gsearch4.grid_scores_\n",
    "gsearch4.cv_results_\n",
    "gsearch4.best_params_\n",
    "gsearch4.best_score_"
   ]
  },
  {
   "cell_type": "code",
   "execution_count": 28,
   "metadata": {},
   "outputs": [
    {
     "data": {
      "text/plain": [
       "GridSearchCV(cv=5, error_score='raise-deprecating',\n",
       "       estimator=GradientBoostingClassifier(criterion='friedman_mse', init=None,\n",
       "              learning_rate=0.1, loss='deviance', max_depth=4,\n",
       "              max_features=7, max_leaf_nodes=None,\n",
       "              min_impurity_decrease=0.0, min_impurity_split=None,\n",
       "              min_samples_leaf=70, min_samples...      subsample=1.0, tol=0.0001, validation_fraction=0.1,\n",
       "              verbose=0, warm_start=False),\n",
       "       fit_params=None, iid=False, n_jobs=4,\n",
       "       param_grid={'subsample': [0.7, 0.75, 0.8, 0.85, 0.9]},\n",
       "       pre_dispatch='2*n_jobs', refit=True, return_train_score='warn',\n",
       "       scoring='roc_auc', verbose=0)"
      ]
     },
     "execution_count": 28,
     "metadata": {},
     "output_type": "execute_result"
    }
   ],
   "source": [
    "### Step3- Tune Subsample and Lower Learning Rate\n",
    "#Grid seach on subsample and max_features\n",
    "param_test5 = {'subsample':[0.7,0.75,0.8,0.85,0.9]}\n",
    "gsearch5 = GridSearchCV(estimator = GradientBoostingClassifier(learning_rate=0.1, n_estimators=70,max_depth=4, min_samples_split=150, min_samples_leaf=70, random_state=10, max_features=7), param_grid = param_test5, scoring='roc_auc',n_jobs=4,iid=False, cv=5)\n",
    "gsearch5.fit(train[predictors],train[target])"
   ]
  },
  {
   "cell_type": "code",
   "execution_count": 29,
   "metadata": {},
   "outputs": [
    {
     "data": {
      "text/plain": [
       "0.6823435687556584"
      ]
     },
     "execution_count": 29,
     "metadata": {},
     "output_type": "execute_result"
    }
   ],
   "source": [
    "#gsearch5.grid_scores_\n",
    "gsearch5.cv_results_\n",
    "gsearch5.best_params_\n",
    "gsearch5.best_score_"
   ]
  },
  {
   "cell_type": "code",
   "execution_count": 30,
   "metadata": {},
   "outputs": [
    {
     "name": "stdout",
     "output_type": "stream",
     "text": [
      "\n",
      "Model Report\n",
      "Accuracy : 0.8734\n",
      "AUC Score (Train): 0.739402\n",
      "CV Score : Mean - 0.6790757 | Std - 0.01970682 | Min - 0.6599959 | Max - 0.7168823\n"
     ]
    },
    {
     "data": {
      "image/png": "[encoded data removed]",
      "text/plain": [
       "<Figure size 432x288 with 1 Axes>"
      ]
     },
     "metadata": {},
     "output_type": "display_data"
    }
   ],
   "source": [
    "#  With all tuned lets try reducing the learning rate and proportionally increasing the number of estimators to get\n",
    "#  more robust results:\n",
    "\n",
    "predictors = predictors1\n",
    "gbm_tuned_1 = GradientBoostingClassifier(learning_rate=0.05, n_estimators=120,max_depth=4, min_samples_split=150,min_samples_leaf=70, subsample=0.7, random_state=10, max_features=5)\n",
    "modelfit(gbm_tuned_1, train, test, predictors)"
   ]
  },
  {
   "cell_type": "code",
   "execution_count": 31,
   "metadata": {},
   "outputs": [],
   "source": [
    "est = GradientBoostingClassifier(learning_rate=0.05, n_estimators=120,max_depth=4, min_samples_split=150, min_samples_leaf=70, subsample=0.7, random_state=10, max_features=5)"
   ]
  },
  {
   "cell_type": "code",
   "execution_count": 32,
   "metadata": {},
   "outputs": [
    {
     "data": {
      "text/plain": [
       "GradientBoostingClassifier(criterion='friedman_mse', init=None,\n",
       "              learning_rate=0.05, loss='deviance', max_depth=4,\n",
       "              max_features=5, max_leaf_nodes=None,\n",
       "              min_impurity_decrease=0.0, min_impurity_split=None,\n",
       "              min_samples_leaf=70, min_samples_split=150,\n",
       "              min_weight_fraction_leaf=0.0, n_estimators=120,\n",
       "              n_iter_no_change=None, presort='auto', random_state=10,\n",
       "              subsample=0.7, tol=0.0001, validation_fraction=0.1,\n",
       "              verbose=0, warm_start=False)"
      ]
     },
     "execution_count": 32,
     "metadata": {},
     "output_type": "execute_result"
    }
   ],
   "source": [
    "\n",
    "est.fit(train[predictors],train[target])\n"
   ]
  },
  {
   "cell_type": "code",
   "execution_count": 33,
   "metadata": {},
   "outputs": [],
   "source": [
    "\n",
    "test.fillna(0,inplace=True)\n",
    "\n",
    "# predict probabilities\n",
    "prob = est.predict_proba(test[predictors])[:,1]\n"
   ]
  },
  {
   "cell_type": "code",
   "execution_count": 34,
   "metadata": {},
   "outputs": [],
   "source": [
    "\n",
    "test1=test\n",
    "test1['Is_Shortlisted']=prob[:]\n",
    "test1.to_csv('DYD_SEC1.csv', columns=['Internship_ID','Student_ID','Is_Shortlisted'],index=False)\n"
   ]
  }
 ],
 "metadata": {
  "kernelspec": {
   "display_name": "Python 3",
   "language": "python",
   "name": "python3"
  },
  "language_info": {
   "codemirror_mode": {
    "name": "ipython",
    "version": 3
   },
   "file_extension": ".py",
   "mimetype": "text/x-python",
   "name": "python",
   "nbconvert_exporter": "python",
   "pygments_lexer": "ipython3",
   "version": "3.7.1"
  }
 },
 "nbformat": 4,
 "nbformat_minor": 1
}
